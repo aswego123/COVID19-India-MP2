{
  "nbformat": 4,
  "nbformat_minor": 0,
  "metadata": {
    "colab": {
      "provenance": []
    },
    "kernelspec": {
      "name": "python3",
      "display_name": "Python 3"
    },
    "language_info": {
      "name": "python"
    }
  },
  "cells": [
    {
      "cell_type": "code",
      "execution_count": null,
      "metadata": {
        "id": "KC5RORhJjEbp"
      },
      "outputs": [],
      "source": [
        "import numpy as np\n",
        "import pandas as pd\n",
        "import matplotlib.pyplot as plt\n",
        "import scipy.stats as stats\n",
        "from sklearn.mixture import GaussianMixture"
      ]
    },
    {
      "cell_type": "code",
      "source": [
        "data = pd.read_csv(\"/content/covid_19_india.csv\")\n",
        "data"
      ],
      "metadata": {
        "colab": {
          "base_uri": "https://localhost:8080/",
          "height": 467
        },
        "id": "iDImVpncj1T2",
        "outputId": "84d14c0b-fb60-4763-8083-1050ae708236"
      },
      "execution_count": null,
      "outputs": [
        {
          "output_type": "execute_result",
          "data": {
            "text/plain": [
              "         Sno      Date     Time State/UnionTerritory    Cured  Deaths  \\\n",
              "0          1  30/01/20  6:00 PM               Kerala        0       0   \n",
              "1          2  31/01/20  6:00 PM               Kerala        0       0   \n",
              "2          3  01/02/20  6:00 PM               Kerala        0       0   \n",
              "3          4  02/02/20  6:00 PM               Kerala        0       0   \n",
              "4          5  03/02/20  6:00 PM               Kerala        0       0   \n",
              "...      ...       ...      ...                  ...      ...     ...   \n",
              "18105  18106  11/08/21  8:00 AM            Telangana   638410    3831   \n",
              "18106  18107  11/08/21  8:00 AM              Tripura    77811     773   \n",
              "18107  18108  11/08/21  8:00 AM          Uttarakhand   334650    7368   \n",
              "18108  18109  11/08/21  8:00 AM        Uttar Pradesh  1685492   22775   \n",
              "18109  18110  11/08/21  8:00 AM          West Bengal  1506532   18252   \n",
              "\n",
              "       Confirmed  Total cases  \n",
              "0              1            1  \n",
              "1              1            1  \n",
              "2              2            2  \n",
              "3              3            3  \n",
              "4              3            3  \n",
              "...          ...          ...  \n",
              "18105     650353      1288763  \n",
              "18106      80660       158471  \n",
              "18107     342462       677112  \n",
              "18108    1708812      3394304  \n",
              "18109    1534999      3041531  \n",
              "\n",
              "[18110 rows x 8 columns]"
            ],
            "text/html": [
              "\n",
              "  <div id=\"df-4e58a4ef-b4bc-4ea8-a24f-4f079eac63a9\">\n",
              "    <div class=\"colab-df-container\">\n",
              "      <div>\n",
              "<style scoped>\n",
              "    .dataframe tbody tr th:only-of-type {\n",
              "        vertical-align: middle;\n",
              "    }\n",
              "\n",
              "    .dataframe tbody tr th {\n",
              "        vertical-align: top;\n",
              "    }\n",
              "\n",
              "    .dataframe thead th {\n",
              "        text-align: right;\n",
              "    }\n",
              "</style>\n",
              "<table border=\"1\" class=\"dataframe\">\n",
              "  <thead>\n",
              "    <tr style=\"text-align: right;\">\n",
              "      <th></th>\n",
              "      <th>Sno</th>\n",
              "      <th>Date</th>\n",
              "      <th>Time</th>\n",
              "      <th>State/UnionTerritory</th>\n",
              "      <th>Cured</th>\n",
              "      <th>Deaths</th>\n",
              "      <th>Confirmed</th>\n",
              "      <th>Total cases</th>\n",
              "    </tr>\n",
              "  </thead>\n",
              "  <tbody>\n",
              "    <tr>\n",
              "      <th>0</th>\n",
              "      <td>1</td>\n",
              "      <td>30/01/20</td>\n",
              "      <td>6:00 PM</td>\n",
              "      <td>Kerala</td>\n",
              "      <td>0</td>\n",
              "      <td>0</td>\n",
              "      <td>1</td>\n",
              "      <td>1</td>\n",
              "    </tr>\n",
              "    <tr>\n",
              "      <th>1</th>\n",
              "      <td>2</td>\n",
              "      <td>31/01/20</td>\n",
              "      <td>6:00 PM</td>\n",
              "      <td>Kerala</td>\n",
              "      <td>0</td>\n",
              "      <td>0</td>\n",
              "      <td>1</td>\n",
              "      <td>1</td>\n",
              "    </tr>\n",
              "    <tr>\n",
              "      <th>2</th>\n",
              "      <td>3</td>\n",
              "      <td>01/02/20</td>\n",
              "      <td>6:00 PM</td>\n",
              "      <td>Kerala</td>\n",
              "      <td>0</td>\n",
              "      <td>0</td>\n",
              "      <td>2</td>\n",
              "      <td>2</td>\n",
              "    </tr>\n",
              "    <tr>\n",
              "      <th>3</th>\n",
              "      <td>4</td>\n",
              "      <td>02/02/20</td>\n",
              "      <td>6:00 PM</td>\n",
              "      <td>Kerala</td>\n",
              "      <td>0</td>\n",
              "      <td>0</td>\n",
              "      <td>3</td>\n",
              "      <td>3</td>\n",
              "    </tr>\n",
              "    <tr>\n",
              "      <th>4</th>\n",
              "      <td>5</td>\n",
              "      <td>03/02/20</td>\n",
              "      <td>6:00 PM</td>\n",
              "      <td>Kerala</td>\n",
              "      <td>0</td>\n",
              "      <td>0</td>\n",
              "      <td>3</td>\n",
              "      <td>3</td>\n",
              "    </tr>\n",
              "    <tr>\n",
              "      <th>...</th>\n",
              "      <td>...</td>\n",
              "      <td>...</td>\n",
              "      <td>...</td>\n",
              "      <td>...</td>\n",
              "      <td>...</td>\n",
              "      <td>...</td>\n",
              "      <td>...</td>\n",
              "      <td>...</td>\n",
              "    </tr>\n",
              "    <tr>\n",
              "      <th>18105</th>\n",
              "      <td>18106</td>\n",
              "      <td>11/08/21</td>\n",
              "      <td>8:00 AM</td>\n",
              "      <td>Telangana</td>\n",
              "      <td>638410</td>\n",
              "      <td>3831</td>\n",
              "      <td>650353</td>\n",
              "      <td>1288763</td>\n",
              "    </tr>\n",
              "    <tr>\n",
              "      <th>18106</th>\n",
              "      <td>18107</td>\n",
              "      <td>11/08/21</td>\n",
              "      <td>8:00 AM</td>\n",
              "      <td>Tripura</td>\n",
              "      <td>77811</td>\n",
              "      <td>773</td>\n",
              "      <td>80660</td>\n",
              "      <td>158471</td>\n",
              "    </tr>\n",
              "    <tr>\n",
              "      <th>18107</th>\n",
              "      <td>18108</td>\n",
              "      <td>11/08/21</td>\n",
              "      <td>8:00 AM</td>\n",
              "      <td>Uttarakhand</td>\n",
              "      <td>334650</td>\n",
              "      <td>7368</td>\n",
              "      <td>342462</td>\n",
              "      <td>677112</td>\n",
              "    </tr>\n",
              "    <tr>\n",
              "      <th>18108</th>\n",
              "      <td>18109</td>\n",
              "      <td>11/08/21</td>\n",
              "      <td>8:00 AM</td>\n",
              "      <td>Uttar Pradesh</td>\n",
              "      <td>1685492</td>\n",
              "      <td>22775</td>\n",
              "      <td>1708812</td>\n",
              "      <td>3394304</td>\n",
              "    </tr>\n",
              "    <tr>\n",
              "      <th>18109</th>\n",
              "      <td>18110</td>\n",
              "      <td>11/08/21</td>\n",
              "      <td>8:00 AM</td>\n",
              "      <td>West Bengal</td>\n",
              "      <td>1506532</td>\n",
              "      <td>18252</td>\n",
              "      <td>1534999</td>\n",
              "      <td>3041531</td>\n",
              "    </tr>\n",
              "  </tbody>\n",
              "</table>\n",
              "<p>18110 rows × 8 columns</p>\n",
              "</div>\n",
              "      <button class=\"colab-df-convert\" onclick=\"convertToInteractive('df-4e58a4ef-b4bc-4ea8-a24f-4f079eac63a9')\"\n",
              "              title=\"Convert this dataframe to an interactive table.\"\n",
              "              style=\"display:none;\">\n",
              "        \n",
              "  <svg xmlns=\"http://www.w3.org/2000/svg\" height=\"24px\"viewBox=\"0 0 24 24\"\n",
              "       width=\"24px\">\n",
              "    <path d=\"M0 0h24v24H0V0z\" fill=\"none\"/>\n",
              "    <path d=\"M18.56 5.44l.94 2.06.94-2.06 2.06-.94-2.06-.94-.94-2.06-.94 2.06-2.06.94zm-11 1L8.5 8.5l.94-2.06 2.06-.94-2.06-.94L8.5 2.5l-.94 2.06-2.06.94zm10 10l.94 2.06.94-2.06 2.06-.94-2.06-.94-.94-2.06-.94 2.06-2.06.94z\"/><path d=\"M17.41 7.96l-1.37-1.37c-.4-.4-.92-.59-1.43-.59-.52 0-1.04.2-1.43.59L10.3 9.45l-7.72 7.72c-.78.78-.78 2.05 0 2.83L4 21.41c.39.39.9.59 1.41.59.51 0 1.02-.2 1.41-.59l7.78-7.78 2.81-2.81c.8-.78.8-2.07 0-2.86zM5.41 20L4 18.59l7.72-7.72 1.47 1.35L5.41 20z\"/>\n",
              "  </svg>\n",
              "      </button>\n",
              "      \n",
              "  <style>\n",
              "    .colab-df-container {\n",
              "      display:flex;\n",
              "      flex-wrap:wrap;\n",
              "      gap: 12px;\n",
              "    }\n",
              "\n",
              "    .colab-df-convert {\n",
              "      background-color: #E8F0FE;\n",
              "      border: none;\n",
              "      border-radius: 50%;\n",
              "      cursor: pointer;\n",
              "      display: none;\n",
              "      fill: #1967D2;\n",
              "      height: 32px;\n",
              "      padding: 0 0 0 0;\n",
              "      width: 32px;\n",
              "    }\n",
              "\n",
              "    .colab-df-convert:hover {\n",
              "      background-color: #E2EBFA;\n",
              "      box-shadow: 0px 1px 2px rgba(60, 64, 67, 0.3), 0px 1px 3px 1px rgba(60, 64, 67, 0.15);\n",
              "      fill: #174EA6;\n",
              "    }\n",
              "\n",
              "    [theme=dark] .colab-df-convert {\n",
              "      background-color: #3B4455;\n",
              "      fill: #D2E3FC;\n",
              "    }\n",
              "\n",
              "    [theme=dark] .colab-df-convert:hover {\n",
              "      background-color: #434B5C;\n",
              "      box-shadow: 0px 1px 3px 1px rgba(0, 0, 0, 0.15);\n",
              "      filter: drop-shadow(0px 1px 2px rgba(0, 0, 0, 0.3));\n",
              "      fill: #FFFFFF;\n",
              "    }\n",
              "  </style>\n",
              "\n",
              "      <script>\n",
              "        const buttonEl =\n",
              "          document.querySelector('#df-4e58a4ef-b4bc-4ea8-a24f-4f079eac63a9 button.colab-df-convert');\n",
              "        buttonEl.style.display =\n",
              "          google.colab.kernel.accessAllowed ? 'block' : 'none';\n",
              "\n",
              "        async function convertToInteractive(key) {\n",
              "          const element = document.querySelector('#df-4e58a4ef-b4bc-4ea8-a24f-4f079eac63a9');\n",
              "          const dataTable =\n",
              "            await google.colab.kernel.invokeFunction('convertToInteractive',\n",
              "                                                     [key], {});\n",
              "          if (!dataTable) return;\n",
              "\n",
              "          const docLinkHtml = 'Like what you see? Visit the ' +\n",
              "            '<a target=\"_blank\" href=https://colab.research.google.com/notebooks/data_table.ipynb>data table notebook</a>'\n",
              "            + ' to learn more about interactive tables.';\n",
              "          element.innerHTML = '';\n",
              "          dataTable['output_type'] = 'display_data';\n",
              "          await google.colab.output.renderOutput(dataTable, element);\n",
              "          const docLink = document.createElement('div');\n",
              "          docLink.innerHTML = docLinkHtml;\n",
              "          element.appendChild(docLink);\n",
              "        }\n",
              "      </script>\n",
              "    </div>\n",
              "  </div>\n",
              "  "
            ]
          },
          "metadata": {},
          "execution_count": 2
        }
      ]
    },
    {
      "cell_type": "code",
      "source": [
        "# Extract the total number of cases for a single state\n",
        "X = data[\"Total cases\"].values.reshape(-1,1)\n",
        "state_data = data[data[\"Confirmed\"] >= 1].groupby([\"State/UnionTerritory\",\"Date\",\"Time\"]).sum()\n",
        "X = state_data[\"Total cases\"].values.reshape(-1,1)\n",
        "# Train the GMM with a single component\n",
        "gmm = GaussianMixture(n_components=1)\n",
        "gmm.fit(X)\n",
        "# Get the estimated mean and covariance of the Gaussian distribution\n",
        "mean = gmm.means_[0][0]\n",
        "cov = gmm.covariances_[0][0][0]\n",
        "print(\"Estimated mean:\", mean)\n",
        "print(\"Estimated covariance:\", cov)"
      ],
      "metadata": {
        "colab": {
          "base_uri": "https://localhost:8080/"
        },
        "id": "3zTnGHSv6vjf",
        "outputId": "9d292b3c-b744-4772-f0fd-e62ecc532c39"
      },
      "execution_count": null,
      "outputs": [
        {
          "output_type": "stream",
          "name": "stdout",
          "text": [
            "Estimated mean: 581145.0475531444\n",
            "Estimated covariance: 1616889287700.325\n"
          ]
        }
      ]
    },
    {
      "cell_type": "markdown",
      "source": [
        "As the mean and estimated covariance values are coming too large, it could be due to outliers in the data or the data being heavily skewed. In such cases, it may be useful to preprocess the data to remove outliers or reduce the skewness. Here are a few suggestions to try:\n",
        "\n",
        "Remove outliers: You can try removing the outliers from the data using techniques like winsorization or trimming. Winsorization replaces the extreme values with the nearest non-outlier value, while trimming removes the extreme values altogether.\n",
        "\n",
        "***Log transformation: If the data is heavily skewed, you can try applying a log transformation to reduce the skewness. This can be done by taking the logarithm of the data before fitting the GMM.***\n",
        "\n",
        "Standardization: Standardizing the data by subtracting the mean and dividing by the standard deviation can help in reducing the scale of the data. This can be useful if the data has large differences in the magnitude of values.\n",
        "\n",
        "Increase number of components: If the GMM with a single component is not able to capture the underlying distribution of the data, you can try increasing the number of components in the GMM. However, be careful not to overfit the data.\n"
      ],
      "metadata": {
        "id": "DLXxI2306v92"
      }
    },
    {
      "cell_type": "code",
      "source": [
        "# Select the columns to transform\n",
        "cols_to_transform = [\"Cured\", \"Deaths\", \"Confirmed\", \"Total cases\"]\n",
        "\n",
        "# Apply log transformations\n",
        "data[cols_to_transform] = data[cols_to_transform].apply(np.log)"
      ],
      "metadata": {
        "id": "ilIe7U1P6L4n"
      },
      "execution_count": null,
      "outputs": []
    },
    {
      "cell_type": "code",
      "source": [
        "# Extract the total number of cases \n",
        "X = data[\"Total cases\"].values.reshape(-1,1)\n",
        "state_data = data[data[\"Confirmed\"] >= 1].groupby([\"State/UnionTerritory\",\"Date\",\"Time\"]).sum()\n",
        "X = state_data[\"Total cases\"].values.reshape(-1,1)\n",
        "# Train the GMM with a single component\n",
        "gmm = GaussianMixture(n_components=1)\n",
        "gmm.fit(X)\n",
        "# Get the estimated mean and covariance of the Gaussian distribution\n",
        "mean = gmm.means_[0][0]\n",
        "cov = gmm.covariances_[0][0][0]\n",
        "print(\"Estimated mean:\", mean)\n",
        "print(\"Estimated covariance:\", cov)\n",
        "# Plot the histogram of the data and the estimated Gaussian distribution\n",
        "plt.hist(X, bins=50, density=True, alpha=0.5, color='blue', label='Data')\n",
        "x = np.linspace(X.min(), X.max(), 100)\n",
        "y = 1/np.sqrt(2*np.pi*cov)*np.exp(-(x-mean)**2/(2*cov))\n",
        "plt.plot(x, y, color='red', label='GMM')\n",
        "plt.legend()\n",
        "plt.show()\n"
      ],
      "metadata": {
        "colab": {
          "base_uri": "https://localhost:8080/",
          "height": 300
        },
        "id": "dUiD7r_Akl4V",
        "outputId": "0c806392-0ce8-418f-c367-50f2d0855f58"
      },
      "execution_count": null,
      "outputs": [
        {
          "output_type": "stream",
          "name": "stdout",
          "text": [
            "Estimated mean: 10.839892291136882\n",
            "Estimated covariance: 10.123826666097276\n"
          ]
        },
        {
          "output_type": "display_data",
          "data": {
            "text/plain": [
              "<Figure size 432x288 with 1 Axes>"
            ],
            "image/png": "[encoded data removed]"
          },
          "metadata": {
            "needs_background": "light"
          }
        }
      ]
    },
    {
      "cell_type": "code",
      "source": [
        "# Extract the total number of cases for a single state\n",
        "X = data[\"Total cases\"].values.reshape(-1,1)\n",
        "state_data = data[data[\"Deaths\"] > 0].groupby([\"State/UnionTerritory\",\"Date\",\"Time\"]).sum()\n",
        "X = state_data[\"Total cases\"].values.reshape(-1,1)\n",
        "# Train the GMM with a single component\n",
        "gmm = GaussianMixture(n_components=1)\n",
        "gmm.fit(X)\n",
        "# Get the estimated mean and covariance of the Gaussian distribution\n",
        "mean = gmm.means_[0][0]\n",
        "cov = gmm.covariances_[0][0][0]\n",
        "print(\"Estimated mean:\", mean)\n",
        "print(\"Estimated covariance:\", cov)\n",
        "# Plot the histogram of the data and the estimated Gaussian distribution\n",
        "plt.hist(X, bins=50, density=True, alpha=0.5, color='blue', label='Data')\n",
        "x = np.linspace(X.min(), X.max(), 100)\n",
        "y = 1/np.sqrt(2*np.pi*cov)*np.exp(-(x-mean)**2/(2*cov))\n",
        "plt.plot(x, y, color='red', label='GMM')\n",
        "plt.legend()\n",
        "plt.show()\n"
      ],
      "metadata": {
        "colab": {
          "base_uri": "https://localhost:8080/",
          "height": 300
        },
        "outputId": "36793257-09c0-402c-b002-19fa1743871d",
        "id": "iZrSXfZg0Dwz"
      },
      "execution_count": null,
      "outputs": [
        {
          "output_type": "stream",
          "name": "stdout",
          "text": [
            "Estimated mean: 11.55907273096977\n",
            "Estimated covariance: 5.784899770801167\n"
          ]
        },
        {
          "output_type": "display_data",
          "data": {
            "text/plain": [
              "<Figure size 432x288 with 1 Axes>"
            ],
            "image/png": "[encoded data removed]"
          },
          "metadata": {
            "needs_background": "light"
          }
        }
      ]
    },
    {
      "cell_type": "code",
      "source": [
        "# Extract the total number of cases \n",
        "state_data = data[data[\"Confirmed\"] >= 1].groupby([\"State/UnionTerritory\",\"Date\",\"Time\"]).sum()\n",
        "X = state_data[\"Total cases\"].values.reshape(-1,1)\n",
        "g = GaussianMixture(n_components=2,covariance_type='full')\n",
        "g.fit(X)\n",
        "weights = g.weights_\n",
        "means = g.means_\n",
        "covars = g.covariances_\n",
        "x_axis = x\n",
        "x_axis.sort()\n",
        "plt.hist(X, bins=100, histtype='bar', density=True, ec='red', alpha=0.5)\n",
        "plt.plot(x_axis,weights[0]*stats.norm.pdf(x_axis,means[0],np.sqrt(covars[0])).ravel(), c='red')\n",
        "plt.plot(x_axis,weights[1]*stats.norm.pdf(x_axis,means[1],np.sqrt(covars[1])).ravel(), c='green')\n",
        "# first plotting the histogram and adding gaussian plots on them\n",
        "# mean, variance and adding weight on it generates a gaussian plot (height)\n",
        "plt.grid()\n",
        "plt.show()"
      ],
      "metadata": {
        "colab": {
          "base_uri": "https://localhost:8080/",
          "height": 265
        },
        "id": "W6UkGVVrw75R",
        "outputId": "5ee0dffc-0f0a-461d-d260-000a0cb99e08"
      },
      "execution_count": null,
      "outputs": [
        {
          "output_type": "display_data",
          "data": {
            "text/plain": [
              "<Figure size 432x288 with 1 Axes>"
            ],
            "image/png": "[encoded data removed]"
          },
          "metadata": {
            "needs_background": "light"
          }
        }
      ]
    },
    {
      "cell_type": "markdown",
      "source": [
        "This code is training and plotting a Gaussian Mixture Model (GMM) with 2 components on the total number of confirmed COVID-19 cases in a particular state over time. The data is loaded into a pandas dataframe from a csv file \"/content/covid_19_india.csv\". The confirmed cases data is grouped by date, time, states and the total number of tests on those dates is extracted. The Gaussian Mixture Model is trained on this data, X.\n",
        "\n",
        "The first plot shows the histogram of the data and the estimated Gaussian distribution. The GMM model is trained with a single component and the mean and covariance of the Gaussian distribution are estimated. The red curve shows the estimated Gaussian distribution and the blue bars show the histogram of the data.\n",
        "\n",
        "The second plot shows the histogram of the data and two Gaussian distributions (in red and green) that fit the data. The Gaussian Mixture Model is trained with 2 components, and the mean, covariance, and weight of each component are estimated. The red and green curves are the estimated Gaussian distributions, with their heights proportional to the estimated weights of the corresponding components.\n",
        "\n",
        "The x-axis represents the total number of tests, and the y-axis represents the probability density function of the estimated Gaussian distributions. The graph shows how the data is fitted with two Gaussian distributions and how the model is able to capture the underlying structure of the data."
      ],
      "metadata": {
        "id": "BV6ykSO6HFw9"
      }
    },
    {
      "cell_type": "markdown",
      "source": [
        "This code performs the following steps:\n",
        "\n",
        "Extracts the total number of cases for a single state from the input data where the number of confirmed cases is greater than or equal to 1.\n",
        "Reshapes the extracted data into an array X with a single column.\n",
        "Creates an instance of the GaussianMixture class with two components and a 'full' covariance type.\n",
        "Fits the model to the data X using the fit method of the GaussianMixture object.\n",
        "Extracts the weights, means, and covariances of the fitted model.\n",
        "Sorts the X values along the x-axis.\n",
        "Plots the histogram of the data with 100 bins, normalized to a density of 1, with red bars and a transparency of 0.5.\n",
        "Plots two Gaussian curves on top of the histogram, one in red and one in green, using the weights, means, and covariances from the fitted model to calculate the curve heights at each x value.\n",
        "Displays the plot with a grid."
      ],
      "metadata": {
        "id": "kArWcG0b8u4K"
      }
    },
    {
      "cell_type": "code",
      "source": [
        "# Extract the total number of cases for a single state\n",
        "failed_data = data[data[\"Deaths\"] >= 1].groupby([\"State/UnionTerritory\",\"Date\",\"Time\"]).sum()\n",
        "Y = failed_data[\"Total cases\"].values.reshape(-1,1)\n",
        "# Train the GMM with a single component\n",
        "g = GaussianMixture(n_components=3,covariance_type='full')\n",
        "g.fit(Y)\n",
        "weights = g.weights_\n",
        "means = g.means_\n",
        "covars = g.covariances_\n",
        "x_axis = x\n",
        "x_axis.sort()\n",
        "plt.hist(Y, bins=100, histtype='bar', density=True, ec='red', alpha=0.5)\n",
        "plt.plot(x_axis,weights[0]*stats.norm.pdf(x_axis,means[0],np.sqrt(covars[0])).ravel(), c='red')\n",
        "plt.plot(x_axis,weights[1]*stats.norm.pdf(x_axis,means[1],np.sqrt(covars[1])).ravel(), c='green')\n",
        "plt.plot(x_axis,weights[2]*stats.norm.pdf(x_axis,means[2],np.sqrt(covars[2])).ravel(), c='blue')\n",
        "plt.grid()\n",
        "plt.show()"
      ],
      "metadata": {
        "colab": {
          "base_uri": "https://localhost:8080/",
          "height": 265
        },
        "id": "sKpGLmpHtZr2",
        "outputId": "901d4916-1d88-4893-c883-50f12705f306"
      },
      "execution_count": null,
      "outputs": [
        {
          "output_type": "display_data",
          "data": {
            "text/plain": [
              "<Figure size 432x288 with 1 Axes>"
            ],
            "image/png": "[encoded data removed]"
          },
          "metadata": {
            "needs_background": "light"
          }
        }
      ]
    },
    {
      "cell_type": "markdown",
      "source": [
        "This code is plotting a graph of the total number of deaths over a period of time. The code uses the Gaussian Mixture Model (GMM) to fit a mixture of Gaussian distributions to the data. The GMM is trained using the \"Deaths\" column of the data, which has the total number of failed tests for each date. The GMM has 3 components, which means it fits 3 Gaussian distributions to the data.\n",
        "\n",
        "The resulting means, variances, and weights of the Gaussian distributions are used to plot the Gaussian curves on top of a histogram of the data. The histogram shows the frequency of the total number of failed tests, while the Gaussian curves show the overall shape of the distribution of the deaths. The 3 Gaussian curves are plotted in different colors (red, green, and blue) to distinguish between the different components of the GMM. The output is a graph that shows the distribution of the total number of Deaths over time."
      ],
      "metadata": {
        "id": "boRigzroJwUR"
      }
    },
    {
      "cell_type": "markdown",
      "source": [
        "The above code aggregates the data for all states in the dataset.\n",
        "\n",
        " It first filters out rows where the \"Confirmed\" cases are greater than or equal to 1 using data[data[\"Deaths\"] >= 1], groups the remaining rows by \"State/UnionTerritory\", \"Date\", and \"Time\" using .groupby([\"State/UnionTerritory\",\"Date\",\"Time\"]), and then sums the \"Total cases\" column for each group using .sum(). This results in a new DataFrame called state_data that has the total number of cases for each state, on each date and time.\n",
        "\n",
        "The Gaussian Mixture Model (GMM) is then trained on the \"Total cases\" values for all states using X = state_data[\"Total cases\"].values.reshape(-1,1). Finally, the code plots the histogram of the \"Total cases\" values using plt.hist(X, bins=100, histtype='bar', density=True, ec='red', alpha=0.5) and overlays two Gaussian distributions on top of the histogram using plt.plot"
      ],
      "metadata": {
        "id": "r25QME598zpS"
      }
    }
  ]
}