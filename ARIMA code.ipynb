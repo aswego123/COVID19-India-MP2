{
  "nbformat": 4,
  "nbformat_minor": 0,
  "metadata": {
    "colab": {
      "provenance": []
    },
    "kernelspec": {
      "name": "python3",
      "display_name": "Python 3"
    },
    "language_info": {
      "name": "python"
    },
    "gpuClass": "standard"
  },
  "cells": [
    {
      "cell_type": "markdown",
      "source": [
        "## ARIMA CODE3\n",
        "This code first loads the COVID 19 data set, filters for positive cases only, and plots the number of positive cases over time. It then performs stationarity tests (ADF and KPSS) and plots the autocorrelation and partial autocorrelation graphs. An ARIMA model is fit to the data, and a 30 day forecast is generated. The forecasted values are plotted along with the actual values and the mean squared error is calculated."
      ],
      "metadata": {
        "id": "Khsd_hYo-kmT"
      }
    },
    {
      "cell_type": "code",
      "execution_count": null,
      "metadata": {
        "id": "EynEytbB9rGO"
      },
      "outputs": [],
      "source": [
        "import numpy as np\n",
        "import pandas as pd\n",
        "from math import sqrt\n",
        "import matplotlib.pyplot as plt\n",
        "import statsmodels.tsa.stattools as ts\n",
        "from statsmodels.graphics.tsaplots import plot_acf, plot_pacf\n",
        "from statsmodels.tsa.arima.model import ARIMA\n",
        "from sklearn.metrics import mean_squared_error"
      ]
    },
    {
      "cell_type": "code",
      "source": [
        "# Load the data\n",
        "from google.colab import drive\n",
        "data = pd.read_csv(\"/content/covid_19_india.csv\")\n",
        "data"
      ],
      "metadata": {
        "colab": {
          "base_uri": "https://localhost:8080/",
          "height": 423
        },
        "id": "YZhpFRkl-H1G",
        "outputId": "4aa6a048-d7ad-4a89-c4c2-25b783be8b87"
      },
      "execution_count": null,
      "outputs": [
        {
          "output_type": "execute_result",
          "data": {
            "text/plain": [
              "         Sno      Date     Time State/UnionTerritory    Cured  Deaths  \\\n",
              "0          1  30/01/20  6:00 PM               Kerala        0       0   \n",
              "1          2  31/01/20  6:00 PM               Kerala        0       0   \n",
              "2          3  01/02/20  6:00 PM               Kerala        0       0   \n",
              "3          4  02/02/20  6:00 PM               Kerala        0       0   \n",
              "4          5  03/02/20  6:00 PM               Kerala        0       0   \n",
              "...      ...       ...      ...                  ...      ...     ...   \n",
              "18105  18106  11/08/21  8:00 AM            Telangana   638410    3831   \n",
              "18106  18107  11/08/21  8:00 AM              Tripura    77811     773   \n",
              "18107  18108  11/08/21  8:00 AM          Uttarakhand   334650    7368   \n",
              "18108  18109  11/08/21  8:00 AM        Uttar Pradesh  1685492   22775   \n",
              "18109  18110  11/08/21  8:00 AM          West Bengal  1506532   18252   \n",
              "\n",
              "       Confirmed  Total cases  \n",
              "0              1            1  \n",
              "1              1            1  \n",
              "2              2            2  \n",
              "3              3            3  \n",
              "4              3            3  \n",
              "...          ...          ...  \n",
              "18105     650353      1288763  \n",
              "18106      80660       158471  \n",
              "18107     342462       677112  \n",
              "18108    1708812      3394304  \n",
              "18109    1534999      3041531  \n",
              "\n",
              "[18110 rows x 8 columns]"
            ],
            "text/html": [
              "\n",
              "  <div id=\"df-d835bf20-34f1-4784-b8e7-c50f789fad93\">\n",
              "    <div class=\"colab-df-container\">\n",
              "      <div>\n",
              "<style scoped>\n",
              "    .dataframe tbody tr th:only-of-type {\n",
              "        vertical-align: middle;\n",
              "    }\n",
              "\n",
              "    .dataframe tbody tr th {\n",
              "        vertical-align: top;\n",
              "    }\n",
              "\n",
              "    .dataframe thead th {\n",
              "        text-align: right;\n",
              "    }\n",
              "</style>\n",
              "<table border=\"1\" class=\"dataframe\">\n",
              "  <thead>\n",
              "    <tr style=\"text-align: right;\">\n",
              "      <th></th>\n",
              "      <th>Sno</th>\n",
              "      <th>Date</th>\n",
              "      <th>Time</th>\n",
              "      <th>State/UnionTerritory</th>\n",
              "      <th>Cured</th>\n",
              "      <th>Deaths</th>\n",
              "      <th>Confirmed</th>\n",
              "      <th>Total cases</th>\n",
              "    </tr>\n",
              "  </thead>\n",
              "  <tbody>\n",
              "    <tr>\n",
              "      <th>0</th>\n",
              "      <td>1</td>\n",
              "      <td>30/01/20</td>\n",
              "      <td>6:00 PM</td>\n",
              "      <td>Kerala</td>\n",
              "      <td>0</td>\n",
              "      <td>0</td>\n",
              "      <td>1</td>\n",
              "      <td>1</td>\n",
              "    </tr>\n",
              "    <tr>\n",
              "      <th>1</th>\n",
              "      <td>2</td>\n",
              "      <td>31/01/20</td>\n",
              "      <td>6:00 PM</td>\n",
              "      <td>Kerala</td>\n",
              "      <td>0</td>\n",
              "      <td>0</td>\n",
              "      <td>1</td>\n",
              "      <td>1</td>\n",
              "    </tr>\n",
              "    <tr>\n",
              "      <th>2</th>\n",
              "      <td>3</td>\n",
              "      <td>01/02/20</td>\n",
              "      <td>6:00 PM</td>\n",
              "      <td>Kerala</td>\n",
              "      <td>0</td>\n",
              "      <td>0</td>\n",
              "      <td>2</td>\n",
              "      <td>2</td>\n",
              "    </tr>\n",
              "    <tr>\n",
              "      <th>3</th>\n",
              "      <td>4</td>\n",
              "      <td>02/02/20</td>\n",
              "      <td>6:00 PM</td>\n",
              "      <td>Kerala</td>\n",
              "      <td>0</td>\n",
              "      <td>0</td>\n",
              "      <td>3</td>\n",
              "      <td>3</td>\n",
              "    </tr>\n",
              "    <tr>\n",
              "      <th>4</th>\n",
              "      <td>5</td>\n",
              "      <td>03/02/20</td>\n",
              "      <td>6:00 PM</td>\n",
              "      <td>Kerala</td>\n",
              "      <td>0</td>\n",
              "      <td>0</td>\n",
              "      <td>3</td>\n",
              "      <td>3</td>\n",
              "    </tr>\n",
              "    <tr>\n",
              "      <th>...</th>\n",
              "      <td>...</td>\n",
              "      <td>...</td>\n",
              "      <td>...</td>\n",
              "      <td>...</td>\n",
              "      <td>...</td>\n",
              "      <td>...</td>\n",
              "      <td>...</td>\n",
              "      <td>...</td>\n",
              "    </tr>\n",
              "    <tr>\n",
              "      <th>18105</th>\n",
              "      <td>18106</td>\n",
              "      <td>11/08/21</td>\n",
              "      <td>8:00 AM</td>\n",
              "      <td>Telangana</td>\n",
              "      <td>638410</td>\n",
              "      <td>3831</td>\n",
              "      <td>650353</td>\n",
              "      <td>1288763</td>\n",
              "    </tr>\n",
              "    <tr>\n",
              "      <th>18106</th>\n",
              "      <td>18107</td>\n",
              "      <td>11/08/21</td>\n",
              "      <td>8:00 AM</td>\n",
              "      <td>Tripura</td>\n",
              "      <td>77811</td>\n",
              "      <td>773</td>\n",
              "      <td>80660</td>\n",
              "      <td>158471</td>\n",
              "    </tr>\n",
              "    <tr>\n",
              "      <th>18107</th>\n",
              "      <td>18108</td>\n",
              "      <td>11/08/21</td>\n",
              "      <td>8:00 AM</td>\n",
              "      <td>Uttarakhand</td>\n",
              "      <td>334650</td>\n",
              "      <td>7368</td>\n",
              "      <td>342462</td>\n",
              "      <td>677112</td>\n",
              "    </tr>\n",
              "    <tr>\n",
              "      <th>18108</th>\n",
              "      <td>18109</td>\n",
              "      <td>11/08/21</td>\n",
              "      <td>8:00 AM</td>\n",
              "      <td>Uttar Pradesh</td>\n",
              "      <td>1685492</td>\n",
              "      <td>22775</td>\n",
              "      <td>1708812</td>\n",
              "      <td>3394304</td>\n",
              "    </tr>\n",
              "    <tr>\n",
              "      <th>18109</th>\n",
              "      <td>18110</td>\n",
              "      <td>11/08/21</td>\n",
              "      <td>8:00 AM</td>\n",
              "      <td>West Bengal</td>\n",
              "      <td>1506532</td>\n",
              "      <td>18252</td>\n",
              "      <td>1534999</td>\n",
              "      <td>3041531</td>\n",
              "    </tr>\n",
              "  </tbody>\n",
              "</table>\n",
              "<p>18110 rows × 8 columns</p>\n",
              "</div>\n",
              "      <button class=\"colab-df-convert\" onclick=\"convertToInteractive('df-d835bf20-34f1-4784-b8e7-c50f789fad93')\"\n",
              "              title=\"Convert this dataframe to an interactive table.\"\n",
              "              style=\"display:none;\">\n",
              "        \n",
              "  <svg xmlns=\"http://www.w3.org/2000/svg\" height=\"24px\"viewBox=\"0 0 24 24\"\n",
              "       width=\"24px\">\n",
              "    <path d=\"M0 0h24v24H0V0z\" fill=\"none\"/>\n",
              "    <path d=\"M18.56 5.44l.94 2.06.94-2.06 2.06-.94-2.06-.94-.94-2.06-.94 2.06-2.06.94zm-11 1L8.5 8.5l.94-2.06 2.06-.94-2.06-.94L8.5 2.5l-.94 2.06-2.06.94zm10 10l.94 2.06.94-2.06 2.06-.94-2.06-.94-.94-2.06-.94 2.06-2.06.94z\"/><path d=\"M17.41 7.96l-1.37-1.37c-.4-.4-.92-.59-1.43-.59-.52 0-1.04.2-1.43.59L10.3 9.45l-7.72 7.72c-.78.78-.78 2.05 0 2.83L4 21.41c.39.39.9.59 1.41.59.51 0 1.02-.2 1.41-.59l7.78-7.78 2.81-2.81c.8-.78.8-2.07 0-2.86zM5.41 20L4 18.59l7.72-7.72 1.47 1.35L5.41 20z\"/>\n",
              "  </svg>\n",
              "      </button>\n",
              "      \n",
              "  <style>\n",
              "    .colab-df-container {\n",
              "      display:flex;\n",
              "      flex-wrap:wrap;\n",
              "      gap: 12px;\n",
              "    }\n",
              "\n",
              "    .colab-df-convert {\n",
              "      background-color: #E8F0FE;\n",
              "      border: none;\n",
              "      border-radius: 50%;\n",
              "      cursor: pointer;\n",
              "      display: none;\n",
              "      fill: #1967D2;\n",
              "      height: 32px;\n",
              "      padding: 0 0 0 0;\n",
              "      width: 32px;\n",
              "    }\n",
              "\n",
              "    .colab-df-convert:hover {\n",
              "      background-color: #E2EBFA;\n",
              "      box-shadow: 0px 1px 2px rgba(60, 64, 67, 0.3), 0px 1px 3px 1px rgba(60, 64, 67, 0.15);\n",
              "      fill: #174EA6;\n",
              "    }\n",
              "\n",
              "    [theme=dark] .colab-df-convert {\n",
              "      background-color: #3B4455;\n",
              "      fill: #D2E3FC;\n",
              "    }\n",
              "\n",
              "    [theme=dark] .colab-df-convert:hover {\n",
              "      background-color: #434B5C;\n",
              "      box-shadow: 0px 1px 3px 1px rgba(0, 0, 0, 0.15);\n",
              "      filter: drop-shadow(0px 1px 2px rgba(0, 0, 0, 0.3));\n",
              "      fill: #FFFFFF;\n",
              "    }\n",
              "  </style>\n",
              "\n",
              "      <script>\n",
              "        const buttonEl =\n",
              "          document.querySelector('#df-d835bf20-34f1-4784-b8e7-c50f789fad93 button.colab-df-convert');\n",
              "        buttonEl.style.display =\n",
              "          google.colab.kernel.accessAllowed ? 'block' : 'none';\n",
              "\n",
              "        async function convertToInteractive(key) {\n",
              "          const element = document.querySelector('#df-d835bf20-34f1-4784-b8e7-c50f789fad93');\n",
              "          const dataTable =\n",
              "            await google.colab.kernel.invokeFunction('convertToInteractive',\n",
              "                                                     [key], {});\n",
              "          if (!dataTable) return;\n",
              "\n",
              "          const docLinkHtml = 'Like what you see? Visit the ' +\n",
              "            '<a target=\"_blank\" href=https://colab.research.google.com/notebooks/data_table.ipynb>data table notebook</a>'\n",
              "            + ' to learn more about interactive tables.';\n",
              "          element.innerHTML = '';\n",
              "          dataTable['output_type'] = 'display_data';\n",
              "          await google.colab.output.renderOutput(dataTable, element);\n",
              "          const docLink = document.createElement('div');\n",
              "          docLink.innerHTML = docLinkHtml;\n",
              "          element.appendChild(docLink);\n",
              "        }\n",
              "      </script>\n",
              "    </div>\n",
              "  </div>\n",
              "  "
            ]
          },
          "metadata": {},
          "execution_count": 5
        }
      ]
    },
    {
      "cell_type": "code",
      "source": [
        "# Filter for positive cases only\n",
        "positive_data = data[data[\"Confirmed\"] >= 1].groupby(\"Date\").sum()\n",
        "positive_data = positive_data.reset_index()"
      ],
      "metadata": {
        "id": "1W7UovCt-H-f"
      },
      "execution_count": null,
      "outputs": []
    },
    {
      "cell_type": "code",
      "source": [
        "# Get the values of the \"Total_test\" column\n",
        "X = positive_data[\"Total cases\"].values"
      ],
      "metadata": {
        "id": "6DhZS6kK-IBf"
      },
      "execution_count": null,
      "outputs": []
    },
    {
      "cell_type": "code",
      "source": [
        "# Plot the number of positive cases over time\n",
        "plt.plot(positive_data['Date'], positive_data['Confirmed'])\n",
        "plt.show()"
      ],
      "metadata": {
        "colab": {
          "base_uri": "https://localhost:8080/",
          "height": 276
        },
        "id": "0GStNR3o-ID9",
        "outputId": "d7ecbc09-86c2-4d1f-fdd7-214c44c25ade"
      },
      "execution_count": null,
      "outputs": [
        {
          "output_type": "display_data",
          "data": {
            "text/plain": [
              "<Figure size 432x288 with 1 Axes>"
            ],
            "image/png": "[encoded data removed]"
          },
          "metadata": {
            "needs_background": "light"
          }
        }
      ]
    },
    {
      "cell_type": "code",
      "source": [
        "# Make the data stationary using differencing\n",
        "X = np.diff(X)"
      ],
      "metadata": {
        "id": "7ZqZcxXM4o5q"
      },
      "execution_count": null,
      "outputs": []
    },
    {
      "cell_type": "code",
      "source": [
        "# Split the data into training and test sets\n",
        "train_data = X[:len(X) - 30]\n",
        "test_data = X[len(X) - 30:]"
      ],
      "metadata": {
        "id": "gN9TETWB4NCM"
      },
      "execution_count": null,
      "outputs": []
    },
    {
      "cell_type": "markdown",
      "source": [
        "This code splits the data into two parts: train_data and test_data. The train_data is created by taking the first len(X) - 30 samples of the original data X. The test_data is created by taking the last 30 samples of X."
      ],
      "metadata": {
        "id": "hjsYULkYGsQ5"
      }
    },
    {
      "cell_type": "code",
      "source": [
        "train_data"
      ],
      "metadata": {
        "colab": {
          "base_uri": "https://localhost:8080/"
        },
        "id": "n9onlJ_S41Hf",
        "outputId": "a88e9d39-e6bc-4c37-8360-e42c5ae71c4e"
      },
      "execution_count": null,
      "outputs": [
        {
          "output_type": "execute_result",
          "data": {
            "text/plain": [
              "array([-20170168,  21191612, -21191611,  21897603, -21895628,  23698846,\n",
              "       -23656787,  34805338, -34567021,  53840319, -53189201,  58967080,\n",
              "       -57110190,  59685983, -55945297,   5054737,   4089810,   2676799,\n",
              "         1859781, -20212172,  21214648, -21214646,  21923443, -21921223,\n",
              "        23825945, -23781062,  35502620, -35255495,  54192684, -53522416,\n",
              "        59042052, -57110201,  59657073, -55881994,   5074715,   4027965,\n",
              "         2657949,   1819215, -20251272,  21239912, -21239906,  21940640,\n",
              "       -21937939,  23958791, -23910490,  36167596, -35910689,  54524652,\n",
              "       -53827134,  59102705, -57118243,  59632963, -55798963,   5077352,\n",
              "         3969494,   2637593,   1778999, -20287333,  21270635, -21270607,\n",
              "        21982967, -21979713,  24111513, -24060200,  36841527, -36575099,\n",
              "        54850979, -54129463,  59160969, -57117257,  59615900, -55728256,\n",
              "         5085441,   3911015,   2617494,   1744954, -20332799,  21298896,\n",
              "       -21298866,  22013622, -22009803,  24267351, -24211331,  37557007,\n",
              "       -37280647,  55154196, -54408180,  59203411, -57095190,  59596393,\n",
              "       -55656460,   5080116,   3865377,   2591138,   1705171, -20372201,\n",
              "        21325097, -21325066,  22046182, -22041616,  24413728, -24354754,\n",
              "        38294680, -38007524,  55443390, -54672274,  59250380, -57079354,\n",
              "        59579729, -55577925,   5052896,   3830118,   2567324,   1667123,\n",
              "       -20412134,  21348961, -21348927,  22079282, -22074177,  24588778,\n",
              "       -24525701,  39035730, -38738028,  55703234, -54909542,  59303586,\n",
              "       -57058020,  59546067, -55496204,   5046782,   3780142,   2535138,\n",
              "         1633711, -20450812,  21372696, -21372657,  22112154, -22106511,\n",
              "        24774282, -24707085,  39750754, -39442930,  55957229, -55138687,\n",
              "        59354134, -57037766,  59518610, -55429854,   5058987,   3713363,\n",
              "         2505994,   1605574, -20488287,  21395822, -21395776,  22130217,\n",
              "       -22123923,  24967491, -24896325,  40536309, -40218005,  56197382,\n",
              "       -55349521,  59397560, -57007340,  59475517, -55340439,   5043248,\n",
              "         3658810,   2480401,   1574803, -20526231,  21419976, -21419918,\n",
              "        22182692, -22175476,  25189508, -25114488,  41251500, -40922008,\n",
              "        56426825, -55549296,  59439936, -56978437,  59428309, -55241480,\n",
              "         5030599,   3586942,   2465490,   1538827, -20559501,  21440836,\n",
              "       -21440776,  22182690, -22174571,  25432066, -25352179,  41931752,\n",
              "       -41592213,  56637288, -55728594,  59475984, -56960122,  59405328,\n",
              "       -55152415,   5026705,   3518012,   2437809,   1502870, -20590470,\n",
              "        21469830, -21469756,  22223630, -22214495,  25675034, -25591035,\n",
              "        42630369, -42278850,  56825809, -55886365,  59504915, -56919852,\n",
              "         4314943,   4985893,   3480344,   2400686,   1473155, -20624255,\n",
              "        21493368, -21493287,  22306904, -22296656,  25932818, -25844483,\n",
              "        43339821, -42975165,  57020112, -56051710,  59539277, -56878383,\n",
              "         4364332,   4946224,   3441200,   2370118,   1444363, -20658853,\n",
              "        21516668, -21516577,  22348851, -22336940,  26197856, -26105623,\n",
              "        44022170, -43643107,  57190056, -56195145,  59572582, -56838049,\n",
              "         4413789,   4914782,   3395735,   2335208,   1418162, -20690418,\n",
              "        21537806, -21537686,  22392568, -22379414,  26490851, -26394238,\n",
              "        44695915, -44303583,  57349131, -56323140,  59603517, -56796602,\n",
              "         4454507,   4900903,   3329769,   2308433,   1393816, -20722553,\n",
              "        21558732, -21558608,  22437247, -22423100,  26825509, -26723920,\n",
              "        45363549, -44956308,  57498101, -56439514,  59629014, -56758765,\n",
              "         4510779,   4861528,   3270459,   2294290,   1365874, -20754867,\n",
              "        21582175, -21582027,  22483867, -22468416,  27182227, -27073083,\n",
              "        46014793, -45598539,  57650983, -56552394,  59653111, -56725195,\n",
              "         4575827,   4813943,   3207385,   2281637,   1336818, -20783112,\n",
              "        21601321, -21601159,  22537465, -22520823,  27580945, -27465169,\n",
              "        46692925, -46264237,  57782169, -56650973,  59683394, -56695340,\n",
              "         4646707,   4764532,   3156256,   2252258,   1310316, -20810587,\n",
              "        21631132, -21630942,  22597817, -22579592,  27997322, -27876241,\n",
              "        47343194, -46897450,  57916693, -56746895,  59697644, -56647542,\n",
              "         4711302,   4697436,   3128204,   2213226,   1286090, -20841398,\n",
              "        21655432, -21655189,  22662370, -22642118,  28409173, -28280623,\n",
              "        47978832, -47519001,  58039095, -56829844,  59709902, -56594443,\n",
              "         4770073,   4626729,   3102383,   2178851,   1264964, -20876586,\n",
              "        21681363, -21681060,  22729112, -22707173,  28869924, -28734510,\n",
              "        48587067, -48106509,  58141203, -56899651,  59727255, -56542255,\n",
              "         4819210,   4562231,   3082511,   2135534,   1244881, -20909133,\n",
              "        21705257, -21704876,  22797165, -22773118,  29361414, -29218864,\n",
              "        49192674, -48697177,  58241421, -56957934,  59741094, -56488781,\n",
              "         4862252,   4520934,   3035959,   2087394,   1235705, -20940519,\n",
              "        21729096, -21728642,  22867592, -22842024,  29885829, -29734969,\n",
              "        49778714, -49267194,  58335159, -57002322,  59739899, -56435635,\n",
              "         4908117,   4476186,   2992697,   2059942,   1208871, -20971316,\n",
              "        21769347, -21768791,  22938659, -22910952,  30450212, -30292169,\n",
              "        50294149, -49765590,  58431650, -57041364,  59730171, -56390942,\n",
              "         4963122,   4423223,   2952067,   2034156,   1175314, -20992262,\n",
              "        21785412, -21784766,  23018535, -22989081,  31015179, -30848716,\n",
              "        50807169, -50258933,  58517910, -57076419,  59728746, -56343131,\n",
              "         5002826,   4368200,   2922053,   1999692,   1158144, -21022820,\n",
              "        21814168, -21813432,  23110550, -23078770,  31585026, -31411674,\n",
              "        51302740, -50732573,  58600190, -57105129,  59719269, -56288136,\n",
              "         5051284,   4293671,   2898656,   1963383,   1139606, -21048829,\n",
              "        21843427, -21842639,  23203142, -23169411,  32157994, -31976323,\n",
              "        51786851, -51198210,  58679378, -57131191,  59709399, -56228415,\n",
              "         5100154,   4213340,   2880805,   1921084,   1125411, -21074796,\n",
              "        21871897, -21870911,  23294397, -23258525,  32777777, -32588613,\n",
              "        52222842, -51610295,  58750366, -57153039,  59711853, -56176304,\n",
              "         5119774,   4158609,   2861247,   1879462,   1123860, -21114397,\n",
              "            1117,  23394517, -23356131,  33423896, -33226497,  52670353,\n",
              "       -52037217,  58813457, -57163800,  59710028, -56116756,   5133718,\n",
              "         4109504])"
            ]
          },
          "metadata": {},
          "execution_count": 12
        }
      ]
    },
    {
      "cell_type": "code",
      "source": [
        "test_data"
      ],
      "metadata": {
        "colab": {
          "base_uri": "https://localhost:8080/"
        },
        "id": "IwNsiPSX48qa",
        "outputId": "6783ad9b-c388-4b2b-bb38-31f6a9bd646f"
      },
      "execution_count": null,
      "outputs": [
        {
          "output_type": "execute_result",
          "data": {
            "text/plain": [
              "array([  2838994,   1836686, -20031871,  21142290, -21140938,  23487523,\n",
              "       -23447173,  34105691, -33891261,  53092987, -52447458,  58888516,\n",
              "       -57185804,  59711942, -56059650,   5156922,   4048638,   2817065,\n",
              "         1799702, -20078992,  21169307, -21167787,  23582115, -23314509,\n",
              "        53470749, -51043201,  59698581, -55999210,   9173902,   4557006])"
            ]
          },
          "metadata": {},
          "execution_count": 13
        }
      ]
    },
    {
      "cell_type": "code",
      "source": [
        "# Check for stationarity using the ADF- Augmented Dickey-Fuller test\n",
        "adf_result = ts.adfuller(train_data)\n",
        "print(\"ADF test statistic: \", adf_result[0])\n",
        "print(\"p-value: \", adf_result[1])\n",
        "print(\"Critical Values: \", adf_result[4])"
      ],
      "metadata": {
        "colab": {
          "base_uri": "https://localhost:8080/"
        },
        "id": "c07svunV-IGt",
        "outputId": "d4e27325-d9b4-4092-e273-30beb01c714b"
      },
      "execution_count": null,
      "outputs": [
        {
          "output_type": "stream",
          "name": "stdout",
          "text": [
            "ADF test statistic:  -28.389929096231675\n",
            "p-value:  0.0\n",
            "Critical Values:  {'1%': -3.4432372923913124, '5%': -2.86722383510113, '10%': -2.5697972702806613}\n"
          ]
        }
      ]
    },
    {
      "cell_type": "markdown",
      "source": [
        "A p-value close to 0 in the ADF test indicates that the data is stationary, as it suggests that the null hypothesis of non-stationarity can be rejected. In this case, the p-value of 2.86e-12 is very small, so it can be concluded that the data is indeed stationary."
      ],
      "metadata": {
        "id": "Cs4C49mXYX9C"
      }
    },
    {
      "cell_type": "code",
      "source": [
        "# Check for stationarity using the KPSS test\n",
        "kpss_result = ts.kpss(train_data)\n",
        "print(\"KPSS test statistic: \", kpss_result[0])\n",
        "print(\"p-value: \", kpss_result[1])\n",
        "print(\"Critical Values: \", kpss_result[3])"
      ],
      "metadata": {
        "colab": {
          "base_uri": "https://localhost:8080/"
        },
        "id": "Fov544d_-IJJ",
        "outputId": "01ad6009-6a0b-497c-cbdf-5d4119d52afe"
      },
      "execution_count": null,
      "outputs": [
        {
          "output_type": "stream",
          "name": "stdout",
          "text": [
            "KPSS test statistic:  0.020901575420440483\n",
            "p-value:  0.1\n",
            "Critical Values:  {'10%': 0.347, '5%': 0.463, '2.5%': 0.574, '1%': 0.739}\n"
          ]
        },
        {
          "output_type": "stream",
          "name": "stderr",
          "text": [
            "/usr/local/lib/python3.8/dist-packages/statsmodels/tsa/stattools.py:1875: FutureWarning: The behavior of using nlags=None will change in release 0.13.Currently nlags=None is the same as nlags=\"legacy\", and so a sample-size lag length is used. After the next release, the default will change to be the same as nlags=\"auto\" which uses an automatic lag length selection method. To silence this warning, either use \"auto\" or \"legacy\"\n",
            "  warnings.warn(msg, FutureWarning)\n",
            "/usr/local/lib/python3.8/dist-packages/statsmodels/tsa/stattools.py:1910: InterpolationWarning: The test statistic is outside of the range of p-values available in the\n",
            "look-up table. The actual p-value is greater than the p-value returned.\n",
            "\n",
            "  warnings.warn(\n"
          ]
        }
      ]
    },
    {
      "cell_type": "markdown",
      "source": [
        "For the KPSS test, the ideal result would be a low p-value (less than the significance level, typically 0.05) and a test statistic below the critical values. This indicates that the null hypothesis (that the data is stationary) cannot be rejected, meaning the data is stationary."
      ],
      "metadata": {
        "id": "0cItcweL_gzA"
      }
    },
    {
      "cell_type": "code",
      "source": [
        "plt.plot(train_data) # stationary "
      ],
      "metadata": {
        "colab": {
          "base_uri": "https://localhost:8080/",
          "height": 293
        },
        "id": "XN-y7Wa2BcX-",
        "outputId": "cf7d9e60-6a58-4b9d-9e96-37a2be3e8250"
      },
      "execution_count": null,
      "outputs": [
        {
          "output_type": "execute_result",
          "data": {
            "text/plain": [
              "[<matplotlib.lines.Line2D at 0x7f802f1eed60>]"
            ]
          },
          "metadata": {},
          "execution_count": 16
        },
        {
          "output_type": "display_data",
          "data": {
            "text/plain": [
              "<Figure size 432x288 with 1 Axes>"
            ],
            "image/png": "[encoded data removed]"
          },
          "metadata": {
            "needs_background": "light"
          }
        }
      ]
    },
    {
      "cell_type": "code",
      "source": [
        "# Plot the partial autocorrelation graph\n",
        "plot_pacf(train_data)\n",
        "plt.show()"
      ],
      "metadata": {
        "colab": {
          "base_uri": "https://localhost:8080/",
          "height": 316
        },
        "id": "OTVtKjwOMmK3",
        "outputId": "51e67934-3ea6-4ffe-a847-ca1ad32e88fb"
      },
      "execution_count": null,
      "outputs": [
        {
          "output_type": "stream",
          "name": "stderr",
          "text": [
            "/usr/local/lib/python3.8/dist-packages/statsmodels/regression/linear_model.py:1434: RuntimeWarning: invalid value encountered in sqrt\n",
            "  return rho, np.sqrt(sigmasq)\n"
          ]
        },
        {
          "output_type": "display_data",
          "data": {
            "text/plain": [
              "<Figure size 432x288 with 1 Axes>"
            ],
            "image/png": "[encoded data removed]"
          },
          "metadata": {
            "needs_background": "light"
          }
        }
      ]
    },
    {
      "cell_type": "markdown",
      "source": [
        "*Value of p= 2*"
      ],
      "metadata": {
        "id": "KkcKEmhpasg3"
      }
    },
    {
      "cell_type": "code",
      "source": [
        "# Plot the autocorrelation graph\n",
        "plot_acf(train_data)\n",
        "plt.show()"
      ],
      "metadata": {
        "colab": {
          "base_uri": "https://localhost:8080/",
          "height": 281
        },
        "id": "BIAPg99M-ILX",
        "outputId": "3b538d37-c82a-40b0-beae-f2fe6deb19fd"
      },
      "execution_count": null,
      "outputs": [
        {
          "output_type": "display_data",
          "data": {
            "text/plain": [
              "<Figure size 432x288 with 1 Axes>"
            ],
            "image/png": "[encoded data removed]"
          },
          "metadata": {
            "needs_background": "light"
          }
        }
      ]
    },
    {
      "cell_type": "markdown",
      "source": [
        "*Value of q=2*"
      ],
      "metadata": {
        "id": "sWLfT-CFac_s"
      }
    },
    {
      "cell_type": "code",
      "source": [
        "# checking the values of p, d, q\n",
        "def arima_model_comparison(data, p_values, d_values, q_values):\n",
        "    best_model = None\n",
        "    best_rmse = float('inf')\n",
        "\n",
        "    for p in p_values:\n",
        "        for d in d_values:\n",
        "            for q in q_values:\n",
        "                try:\n",
        "                    model = ARIMA(data, order=(p,d,q))\n",
        "                    model_fit = model.fit()\n",
        "\n",
        "                    # Split the data into training and testing sets\n",
        "                    train_data = data[:-12]\n",
        "                    test_data = data[-12:]\n",
        "\n",
        "                    # Make predictions on the test set\n",
        "                    predict = model_fit.predict(start=len(train_data), end=len(train_data) + len(test_data) - 1, typ='levels')\n",
        "\n",
        "                    # Calculate the RMSE\n",
        "                    rmse = np.sqrt(mean_squared_error(test_data, predict))\n",
        "\n",
        "                    # Keep track of the best model based on RMSE\n",
        "                    if rmse < best_rmse:\n",
        "                        best_model = model_fit\n",
        "                        best_rmse = rmse\n",
        "                except:\n",
        "                    continue\n",
        "\n",
        "    return best_model, best_rmse\n",
        "\n",
        "# Example usage:\n",
        "data = X\n",
        "p_values = [0, 1, 2]\n",
        "d_values = [0, 1, 2]\n",
        "q_values = [0, 1, 2]\n",
        "\n",
        "best_model, best_rmse = arima_model_comparison(data, p_values, d_values, q_values)\n",
        "print(\"Best Model: \", best_model.summary())\n",
        "print(\"Best RMSE: \", best_rmse)"
      ],
      "metadata": {
        "colab": {
          "base_uri": "https://localhost:8080/"
        },
        "id": "guSGl08HwCJ5",
        "outputId": "6738c61a-d968-4ca5-e81d-a98fa4544df2"
      },
      "execution_count": null,
      "outputs": [
        {
          "output_type": "stream",
          "name": "stderr",
          "text": [
            "/usr/local/lib/python3.8/dist-packages/statsmodels/tsa/statespace/sarimax.py:978: UserWarning: Non-invertible starting MA parameters found. Using zeros as starting parameters.\n",
            "  warn('Non-invertible starting MA parameters found.'\n",
            "/usr/local/lib/python3.8/dist-packages/statsmodels/tsa/statespace/sarimax.py:978: UserWarning: Non-invertible starting MA parameters found. Using zeros as starting parameters.\n",
            "  warn('Non-invertible starting MA parameters found.'\n",
            "/usr/local/lib/python3.8/dist-packages/statsmodels/tsa/statespace/sarimax.py:978: UserWarning: Non-invertible starting MA parameters found. Using zeros as starting parameters.\n",
            "  warn('Non-invertible starting MA parameters found.'\n",
            "/usr/local/lib/python3.8/dist-packages/statsmodels/tsa/statespace/sarimax.py:978: UserWarning: Non-invertible starting MA parameters found. Using zeros as starting parameters.\n",
            "  warn('Non-invertible starting MA parameters found.'\n",
            "/usr/local/lib/python3.8/dist-packages/statsmodels/tsa/statespace/sarimax.py:978: UserWarning: Non-invertible starting MA parameters found. Using zeros as starting parameters.\n",
            "  warn('Non-invertible starting MA parameters found.'\n",
            "/usr/local/lib/python3.8/dist-packages/statsmodels/tsa/statespace/sarimax.py:978: UserWarning: Non-invertible starting MA parameters found. Using zeros as starting parameters.\n",
            "  warn('Non-invertible starting MA parameters found.'\n",
            "/usr/local/lib/python3.8/dist-packages/statsmodels/tsa/statespace/sarimax.py:978: UserWarning: Non-invertible starting MA parameters found. Using zeros as starting parameters.\n",
            "  warn('Non-invertible starting MA parameters found.'\n",
            "/usr/local/lib/python3.8/dist-packages/statsmodels/tsa/statespace/sarimax.py:978: UserWarning: Non-invertible starting MA parameters found. Using zeros as starting parameters.\n",
            "  warn('Non-invertible starting MA parameters found.'\n"
          ]
        },
        {
          "output_type": "stream",
          "name": "stdout",
          "text": [
            "Best Model:                                 SARIMAX Results                                \n",
            "==============================================================================\n",
            "Dep. Variable:                      y   No. Observations:                  559\n",
            "Model:                 ARIMA(2, 0, 1)   Log Likelihood               -9945.861\n",
            "Date:                Fri, 24 Feb 2023   AIC                          19901.722\n",
            "Time:                        04:40:41   BIC                          19923.352\n",
            "Sample:                             0   HQIC                         19910.169\n",
            "                                - 559                                         \n",
            "Covariance Type:                  opg                                         \n",
            "==============================================================================\n",
            "                 coef    std err          z      P>|z|      [0.025      0.975]\n",
            "------------------------------------------------------------------------------\n",
            "const        -77.3076   7581.232     -0.010      0.992   -1.49e+04    1.48e+04\n",
            "ar.L1         -0.2705      0.089     -3.025      0.002      -0.446      -0.095\n",
            "ar.L2          0.5658      0.056     10.114      0.000       0.456       0.675\n",
            "ma.L1         -0.9991      0.074    -13.467      0.000      -1.145      -0.854\n",
            "sigma2       1.92e+14   2.29e-07    8.4e+20      0.000    1.92e+14    1.92e+14\n",
            "===================================================================================\n",
            "Ljung-Box (L1) (Q):                   0.16   Jarque-Bera (JB):               146.80\n",
            "Prob(Q):                              0.69   Prob(JB):                         0.00\n",
            "Heteroskedasticity (H):               1.14   Skew:                            -0.97\n",
            "Prob(H) (two-sided):                  0.39   Kurtosis:                         4.59\n",
            "===================================================================================\n",
            "\n",
            "Warnings:\n",
            "[1] Covariance matrix calculated using the outer product of gradients (complex-step).\n",
            "[2] Covariance matrix is singular or near-singular, with condition number 6.78e+38. Standard errors may be unstable.\n",
            "Best RMSE:  14995620.072635543\n"
          ]
        }
      ]
    },
    {
      "cell_type": "code",
      "source": [
        "# Fit an ARIMA model to the data\n",
        "model = ARIMA(train_data, order=(4,1,6))\n",
        "model_fit = model.fit()\n",
        "print(model_fit.summary())"
      ],
      "metadata": {
        "colab": {
          "base_uri": "https://localhost:8080/"
        },
        "outputId": "6c625e12-7fe6-4632-924c-be890d4f4552",
        "id": "9Ok5dmSbwKmR"
      },
      "execution_count": null,
      "outputs": [
        {
          "output_type": "stream",
          "name": "stdout",
          "text": [
            "                               SARIMAX Results                                \n",
            "==============================================================================\n",
            "Dep. Variable:                      y   No. Observations:                  529\n",
            "Model:                 ARIMA(4, 1, 6)   Log Likelihood               -9409.629\n",
            "Date:                Fri, 24 Feb 2023   AIC                          18841.258\n",
            "Time:                        04:56:36   BIC                          18888.218\n",
            "Sample:                             0   HQIC                         18859.641\n",
            "                                - 529                                         \n",
            "Covariance Type:                  opg                                         \n",
            "==============================================================================\n",
            "                 coef    std err          z      P>|z|      [0.025      0.975]\n",
            "------------------------------------------------------------------------------\n",
            "ar.L1         -1.8095      0.769     -2.352      0.019      -3.317      -0.302\n",
            "ar.L2         -1.8518      0.928     -1.996      0.046      -3.670      -0.033\n",
            "ar.L3         -1.3401      0.831     -1.613      0.107      -2.969       0.289\n",
            "ar.L4         -0.4014      0.524     -0.767      0.443      -1.428       0.625\n",
            "ma.L1         -0.2794      0.758     -0.369      0.712      -1.764       1.206\n",
            "ma.L2          0.1762      0.713      0.247      0.805      -1.221       1.574\n",
            "ma.L3         -0.8780      0.550     -1.596      0.110      -1.956       0.200\n",
            "ma.L4         -0.2129      0.893     -0.238      0.812      -1.964       1.538\n",
            "ma.L5          0.1291      0.382      0.338      0.735      -0.619       0.877\n",
            "ma.L6          0.0678      0.201      0.337      0.736      -0.327       0.462\n",
            "sigma2       2.07e+14   1.42e-14   1.45e+28      0.000    2.07e+14    2.07e+14\n",
            "===================================================================================\n",
            "Ljung-Box (L1) (Q):                   0.00   Jarque-Bera (JB):               403.41\n",
            "Prob(Q):                              0.97   Prob(JB):                         0.00\n",
            "Heteroskedasticity (H):               1.13   Skew:                            -1.39\n",
            "Prob(H) (two-sided):                  0.42   Kurtosis:                         6.25\n",
            "===================================================================================\n",
            "\n",
            "Warnings:\n",
            "[1] Covariance matrix calculated using the outer product of gradients (complex-step).\n",
            "[2] Covariance matrix is singular or near-singular, with condition number 4.14e+44. Standard errors may be unstable.\n"
          ]
        },
        {
          "output_type": "stream",
          "name": "stderr",
          "text": [
            "/usr/local/lib/python3.8/dist-packages/statsmodels/base/model.py:566: ConvergenceWarning: Maximum Likelihood optimization failed to converge. Check mle_retvals\n",
            "  warnings.warn(\"Maximum Likelihood optimization failed to \"\n"
          ]
        }
      ]
    },
    {
      "cell_type": "code",
      "source": [
        "# Forecast the next 30 days\n",
        "forecast = model_fit.forecast(steps=30)\n",
        "print(forecast)"
      ],
      "metadata": {
        "colab": {
          "base_uri": "https://localhost:8080/"
        },
        "id": "Mc4eXJmA-ITN",
        "outputId": "25c68b0c-7df3-4fc1-ccff-63d55db54c88"
      },
      "execution_count": null,
      "outputs": [
        {
          "output_type": "stream",
          "name": "stdout",
          "text": [
            "[ -1624479.34751271  15494977.45987032 -23878173.96781205\n",
            "  16885055.72923864  -6771842.10123753   6770650.50938179\n",
            " -12749181.74856225  12833674.98310993  -5964045.34212752\n",
            "   1399224.29334116  -3563650.234219     6702951.29135803\n",
            "  -5005967.52782772    864856.31807004    157676.81634358\n",
            "   2135877.90480606  -3301402.42556323   1465129.45774749\n",
            "    541576.18451209   -121307.70266396  -1416629.85988448\n",
            "   1478996.18214759   -102900.97634757   -600518.6171224\n",
            "   -131263.94237651    898629.51689182   -532022.80188577\n",
            "   -279488.32649291    344242.47229875    251778.30028033]\n"
          ]
        }
      ]
    },
    {
      "cell_type": "code",
      "source": [
        "# Make predictions using the ARIMA model\n",
        "predict=model_fit.predict(typ='levels')\n",
        "predict[:30]"
      ],
      "metadata": {
        "colab": {
          "base_uri": "https://localhost:8080/"
        },
        "id": "XL3YrbSTjosI",
        "outputId": "a60715a8-811a-4a19-f823-8eed4dadf62d"
      },
      "execution_count": null,
      "outputs": [
        {
          "output_type": "execute_result",
          "data": {
            "text/plain": [
              "array([        0.        ,   -952028.18076886, -29328608.21671868,\n",
              "        14113240.59858525, -25876151.83782362,  13695570.33075343,\n",
              "       -23172941.22503564,  19049970.73391326, -35869298.53968827,\n",
              "        30364524.74286132, -50608206.56604986,  48316080.51836179,\n",
              "       -55389871.93426684,  54085374.23070541, -50642049.19296204,\n",
              "        50124275.89462507,   4904449.82389463,  -4369773.37725609,\n",
              "         7276020.26770395,  -5088230.72360348,  15153860.54693083,\n",
              "       -15444159.93608506,  25403657.70285697, -26506895.6427709 ,\n",
              "        17350526.98041325, -15461837.06361973,  19026746.43348227,\n",
              "       -39994389.42702278,  36222796.84734759, -51459666.94878107])"
            ]
          },
          "metadata": {},
          "execution_count": 52
        }
      ]
    },
    {
      "cell_type": "code",
      "source": [
        "#Plot the predictions along with the test data\n",
        "plt.plot(train_data[:30], label='Training Data')\n",
        "plt.plot(test_data, label='Test Data')\n",
        "plt.plot(predict[:30], '--', label='Predictions')\n",
        "plt.legend()\n",
        "plt.show()"
      ],
      "metadata": {
        "colab": {
          "base_uri": "https://localhost:8080/",
          "height": 276
        },
        "id": "8SKVJWI_9OI7",
        "outputId": "4c51dce9-264c-49fb-b0d1-86fb55d84ca8"
      },
      "execution_count": null,
      "outputs": [
        {
          "output_type": "display_data",
          "data": {
            "text/plain": [
              "<Figure size 432x288 with 1 Axes>"
            ],
            "image/png": "[encoded data removed]"
          },
          "metadata": {
            "needs_background": "light"
          }
        }
      ]
    },
    {
      "cell_type": "code",
      "source": [
        "# evaluate forecasts\n",
        "predict_len = len(test_data)\n",
        "predict = predict[:predict_len]\n",
        "rmse = sqrt(mean_squared_error(test_data, predict)) \n",
        "print('Test RMSE: %.3f' % rmse)"
      ],
      "metadata": {
        "id": "qGrNc-ZV58JE",
        "colab": {
          "base_uri": "https://localhost:8080/"
        },
        "outputId": "18fb1233-5887-44d7-a715-efc141b4bbba"
      },
      "execution_count": null,
      "outputs": [
        {
          "output_type": "stream",
          "name": "stdout",
          "text": [
            "Test RMSE: 19965635.109\n"
          ]
        }
      ]
    }
  ]
}